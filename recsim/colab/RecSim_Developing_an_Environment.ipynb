{
 "cells": [
  {
   "cell_type": "markdown",
   "metadata": {
    "colab_type": "text",
    "id": "GR3POZI8l8rC",
    "pycharm": {
     "name": "#%% md\n"
    }
   },
   "source": [
    " Copyright 2019 The RecSim Authors.\n",
    "\n",
    " Licensed under the Apache License, Version 2.0 (the \"License\");\n",
    " you may not use this file except in compliance with the License.\n",
    " You may obtain a copy of the License at\n",
    "\n",
    "     http://www.apache.org/licenses/LICENSE-2.0\n",
    "\n",
    " Unless required by applicable law or agreed to in writing, software distributed under the License is distributed on an \"AS IS\" BASIS, WITHOUT WARRANTIES OR CONDITIONS OF ANY KIND, either express or implied. See the License for the specific language governing permissions and limitations under the License."
   ]
  },
  {
   "cell_type": "markdown",
   "metadata": {
    "colab_type": "text",
    "id": "ehxPDcc-SuPC",
    "pycharm": {
     "name": "#%% md\n"
    }
   },
   "source": [
    "# Developing an Environment\n",
    "\n",
    "In the [last tutorial](RecSim_Overview.ipynb), we went over the high-level ideas and basics of using RecSim for training and evaluation of a recommender agent. While agent development is an important use case of RecSim, simulation environments are first-class citizens too! The simulation of novel and difficult recommendation system tasks is important in and of itself. In this tutorial we will break a RecSim environment down into its basic components. \n",
    "![Detailed view of RecSim](https://github.com/google-research/recsim/blob/master/recsim/colab/figures/simulator.png?raw=true)\n",
    "\n",
    "The green and blue blocks in the above diagram constitute the classes that need to be implemented within a RecSim environment. The goal of this tutorial is to explain the purpose of these blocks and how they come together in a simulation.  In the process, we will go over an example end-to-end implementation.\n",
    "\n"
   ]
  },
  {
   "cell_type": "markdown",
   "metadata": {
    "colab_type": "text",
    "id": "MAZ4L-3Q4eme",
    "pycharm": {
     "name": "#%% md\n"
    }
   },
   "source": [
    "# Overview\n",
    "\n",
    "A single step of a RecSim simulation can be summarized roughly as follows:\n",
    "\n",
    "\n",
    "1.   the document database provides a corpus of *D* documents to the recommender. This could be a different set at each step (e.g., sampled, or produced by some \"candidate generation\" process), or fixed throughout the simulation. Each document is represented by a list of features. In a fully observable situation, the recommender observes all features of each document that impact the user's state and choice of document (and other aspects of the user's response), but this need not be the case in general. (In fact, most interesting scenarios involve latent features.)\n",
    "2.   The recommender observes the *D* documents (and their features) together with the user's response to the last recommendation. It then makes a selection (possibly ordered) of *k* documents and presents them to the user. The ordering may or may not impact the user choice or user state, depending on our simulation goals.\n",
    "3.   The user examines the list of documents and makes a choice of one document. Note that not consuming any of the documents is also a valid choice. This leads to a transition in the user's state. Finally the user emits an observation, which the recommender observes at the next iteration. The observation generally includes (noisy) information about the user's reaction to the content and potentially clues about the user's latent state. Typically, the user's state is not fully revealed. \n",
    "\n",
    "If we examine at the diagram above carefully, we notice that the flow of information along arcs is acyclic---a RecSim environment is a dynamic Bayesian network (DBN), where the various boxes represent conditional probability distributions. We will now define a simple simulation problem and implement it. "
   ]
  },
  {
   "cell_type": "markdown",
   "metadata": {
    "colab_type": "text",
    "id": "NHNuO9HQ7O5_",
    "pycharm": {
     "name": "#%% md\n"
    }
   },
   "source": [
    "#Simulation Scenario: Choc vs. Kale\n",
    "\n",
    "Consider the following scenario: the elements of our corpus are characterized by the degree to which they are *nutritious* vs. *regretful*---we some tongue-in-cheek refer to nutritious items as ``kale'' and regretful items as ''chocalate.'' Regretful documents generate very high engagement among users, yet long-term over-consumption  of such documents leads to a decrease in user satisfaction. On the other hand, nutritious documents generate relatively low engagement, but their consumption leads to long-term satisfaction. We will model this document property as a continuous feature taking values in the [0,1]-interval, calling it the Kaleness scale. A document scoring 1 is fully nutritious, while a document scoring 0 is fully regretful. \n",
    "\n",
    "A user's latent state consists of a 1-dimensional *satisfaction* variable. Each time a more \"kaley\" document is consumed, that variable tends to increase, and conversely, a chocolatey document tends to decrease satisfaction. Upon consumption of a document, the user emits some (stochastic) measure of engagement (say, the watch-time of a video). The magnitude of the expected engagement is proportional to the user's satisfaction and inversely proportional to the kaleness of the video. \n",
    "\n",
    "Thus, the goal is to find the optimal mix of chocolatey and kaley items so as to keep the user engaged over a long period of time. \n",
    "\n",
    "We will discuss the particular functional forms for the various components as we go along."
   ]
  },
  {
   "cell_type": "code",
   "execution_count": 1,
   "metadata": {
    "colab": {},
    "colab_type": "code",
    "id": "My8kjo8OWRnC",
    "pycharm": {
     "name": "#%%\n"
    }
   },
   "outputs": [],
   "source": [
    "# @title Install\n",
    "#!pip install --upgrade --no-cache-dir recsim"
   ]
  },
  {
   "cell_type": "code",
   "execution_count": 1,
   "metadata": {
    "colab": {},
    "colab_type": "code",
    "id": "a00rX0hWRMNl",
    "pycharm": {
     "name": "#%%\n"
    }
   },
   "outputs": [],
   "source": [
    "#@title Generic imports\n",
    "import numpy as np\n",
    "from gym import spaces\n",
    "import matplotlib.pyplot as plt\n",
    "from scipy import stats"
   ]
  },
  {
   "cell_type": "markdown",
   "metadata": {
    "colab_type": "text",
    "id": "ZgR-tBpJFrqD",
    "pycharm": {
     "name": "#%% md\n"
    }
   },
   "source": [
    "The main imports we use from RecSim are user and document -- they provide the abstract classes needed to instantiate all components of the environment."
   ]
  },
  {
   "cell_type": "code",
   "execution_count": 2,
   "metadata": {
    "colab": {},
    "colab_type": "code",
    "id": "JNKQb4XSFCXp",
    "pycharm": {
     "name": "#%%\n"
    }
   },
   "outputs": [
    {
     "name": "stderr",
     "output_type": "stream",
     "text": [
      "C:\\Users\\Luca Pantea\\Documents\\University\\Year 3\\Research Project\\RecSim Codebase\\recsim\\recsim_env\\lib\\site-packages\\tensorflow_core\\python\\pywrap_tensorflow_internal.py:15: DeprecationWarning: the imp module is deprecated in favour of importlib; see the module's documentation for alternative uses\n",
      "  import imp\n",
      "C:\\Users\\Luca Pantea\\Documents\\University\\Year 3\\Research Project\\RecSim Codebase\\recsim\\recsim_env\\lib\\site-packages\\tensorflow_core\\python\\framework\\dtypes.py:597: DeprecationWarning: `np.object` is a deprecated alias for the builtin `object`. To silence this warning, use `object` by itself. Doing this will not modify any behavior and is safe. \n",
      "Deprecated in NumPy 1.20; for more details and guidance: https://numpy.org/devdocs/release/1.20.0-notes.html#deprecations\n",
      "  np.object,\n",
      "C:\\Users\\Luca Pantea\\Documents\\University\\Year 3\\Research Project\\RecSim Codebase\\recsim\\recsim_env\\lib\\site-packages\\tensorflow_core\\python\\framework\\dtypes.py:605: DeprecationWarning: `np.bool` is a deprecated alias for the builtin `bool`. To silence this warning, use `bool` by itself. Doing this will not modify any behavior and is safe. If you specifically wanted the numpy scalar type, use `np.bool_` here.\n",
      "Deprecated in NumPy 1.20; for more details and guidance: https://numpy.org/devdocs/release/1.20.0-notes.html#deprecations\n",
      "  np.bool,\n",
      "C:\\Users\\Luca Pantea\\Documents\\University\\Year 3\\Research Project\\RecSim Codebase\\recsim\\recsim_env\\lib\\site-packages\\tensorflow_core\\python\\framework\\tensor_util.py:174: DeprecationWarning: `np.object` is a deprecated alias for the builtin `object`. To silence this warning, use `object` by itself. Doing this will not modify any behavior and is safe. \n",
      "Deprecated in NumPy 1.20; for more details and guidance: https://numpy.org/devdocs/release/1.20.0-notes.html#deprecations\n",
      "  np.object: SlowAppendObjectArrayToTensorProto,\n",
      "C:\\Users\\Luca Pantea\\Documents\\University\\Year 3\\Research Project\\RecSim Codebase\\recsim\\recsim_env\\lib\\site-packages\\tensorflow_core\\python\\framework\\tensor_util.py:175: DeprecationWarning: `np.bool` is a deprecated alias for the builtin `bool`. To silence this warning, use `bool` by itself. Doing this will not modify any behavior and is safe. If you specifically wanted the numpy scalar type, use `np.bool_` here.\n",
      "Deprecated in NumPy 1.20; for more details and guidance: https://numpy.org/devdocs/release/1.20.0-notes.html#deprecations\n",
      "  np.bool: SlowAppendBoolArrayToTensorProto,\n",
      "C:\\Users\\Luca Pantea\\Documents\\University\\Year 3\\Research Project\\RecSim Codebase\\recsim\\recsim_env\\lib\\site-packages\\keras_preprocessing\\image\\utils.py:23: DeprecationWarning: NEAREST is deprecated and will be removed in Pillow 10 (2023-07-01). Use Resampling.NEAREST or Dither.NONE instead.\n",
      "  'nearest': pil_image.NEAREST,\n",
      "C:\\Users\\Luca Pantea\\Documents\\University\\Year 3\\Research Project\\RecSim Codebase\\recsim\\recsim_env\\lib\\site-packages\\keras_preprocessing\\image\\utils.py:24: DeprecationWarning: BILINEAR is deprecated and will be removed in Pillow 10 (2023-07-01). Use Resampling.BILINEAR instead.\n",
      "  'bilinear': pil_image.BILINEAR,\n",
      "C:\\Users\\Luca Pantea\\Documents\\University\\Year 3\\Research Project\\RecSim Codebase\\recsim\\recsim_env\\lib\\site-packages\\keras_preprocessing\\image\\utils.py:25: DeprecationWarning: BICUBIC is deprecated and will be removed in Pillow 10 (2023-07-01). Use Resampling.BICUBIC instead.\n",
      "  'bicubic': pil_image.BICUBIC,\n",
      "C:\\Users\\Luca Pantea\\Documents\\University\\Year 3\\Research Project\\RecSim Codebase\\recsim\\recsim_env\\lib\\site-packages\\keras_preprocessing\\image\\utils.py:28: DeprecationWarning: HAMMING is deprecated and will be removed in Pillow 10 (2023-07-01). Use Resampling.HAMMING instead.\n",
      "  if hasattr(pil_image, 'HAMMING'):\n",
      "C:\\Users\\Luca Pantea\\Documents\\University\\Year 3\\Research Project\\RecSim Codebase\\recsim\\recsim_env\\lib\\site-packages\\keras_preprocessing\\image\\utils.py:30: DeprecationWarning: BOX is deprecated and will be removed in Pillow 10 (2023-07-01). Use Resampling.BOX instead.\n",
      "  if hasattr(pil_image, 'BOX'):\n",
      "C:\\Users\\Luca Pantea\\Documents\\University\\Year 3\\Research Project\\RecSim Codebase\\recsim\\recsim_env\\lib\\site-packages\\keras_preprocessing\\image\\utils.py:33: DeprecationWarning: LANCZOS is deprecated and will be removed in Pillow 10 (2023-07-01). Use Resampling.LANCZOS instead.\n",
      "  if hasattr(pil_image, 'LANCZOS'):\n",
      "C:\\Users\\Luca Pantea\\Documents\\University\\Year 3\\Research Project\\RecSim Codebase\\recsim\\recsim_env\\lib\\site-packages\\tensorboard\\compat\\tensorflow_stub\\dtypes.py:568: DeprecationWarning: `np.object` is a deprecated alias for the builtin `object`. To silence this warning, use `object` by itself. Doing this will not modify any behavior and is safe. \n",
      "Deprecated in NumPy 1.20; for more details and guidance: https://numpy.org/devdocs/release/1.20.0-notes.html#deprecations\n",
      "  (np.object, string),\n",
      "C:\\Users\\Luca Pantea\\Documents\\University\\Year 3\\Research Project\\RecSim Codebase\\recsim\\recsim_env\\lib\\site-packages\\tensorboard\\compat\\tensorflow_stub\\dtypes.py:569: DeprecationWarning: `np.bool` is a deprecated alias for the builtin `bool`. To silence this warning, use `bool` by itself. Doing this will not modify any behavior and is safe. If you specifically wanted the numpy scalar type, use `np.bool_` here.\n",
      "Deprecated in NumPy 1.20; for more details and guidance: https://numpy.org/devdocs/release/1.20.0-notes.html#deprecations\n",
      "  (np.bool, bool),\n",
      "C:\\Users\\Luca Pantea\\Documents\\University\\Year 3\\Research Project\\RecSim Codebase\\recsim\\recsim_env\\lib\\site-packages\\tensorboard\\util\\tensor_util.py:100: DeprecationWarning: `np.object` is a deprecated alias for the builtin `object`. To silence this warning, use `object` by itself. Doing this will not modify any behavior and is safe. \n",
      "Deprecated in NumPy 1.20; for more details and guidance: https://numpy.org/devdocs/release/1.20.0-notes.html#deprecations\n",
      "  np.object: SlowAppendObjectArrayToTensorProto,\n",
      "C:\\Users\\Luca Pantea\\Documents\\University\\Year 3\\Research Project\\RecSim Codebase\\recsim\\recsim_env\\lib\\site-packages\\tensorboard\\util\\tensor_util.py:101: DeprecationWarning: `np.bool` is a deprecated alias for the builtin `bool`. To silence this warning, use `bool` by itself. Doing this will not modify any behavior and is safe. If you specifically wanted the numpy scalar type, use `np.bool_` here.\n",
      "Deprecated in NumPy 1.20; for more details and guidance: https://numpy.org/devdocs/release/1.20.0-notes.html#deprecations\n",
      "  np.bool: SlowAppendBoolArrayToTensorProto,\n"
     ]
    }
   ],
   "source": [
    "#@title RecSim imports\n",
    "from recsim import document\n",
    "from recsim import user\n",
    "from recsim.choice_model import MultinomialLogitChoiceModel\n",
    "from recsim.simulator import environment\n",
    "from recsim.simulator import recsim_gym"
   ]
  },
  {
   "cell_type": "markdown",
   "metadata": {
    "colab_type": "text",
    "id": "G1NzyfWi7kUc",
    "pycharm": {
     "name": "#%% md\n"
    }
   },
   "source": [
    "#A Document Model\n",
    "\n",
    "A RecSim document is a class inheriting from recsim.document.AbstractDocument. It serves as the main unit of exchange between the document model, agent, and user. A document class implementation is essentially a container for the  unobservable and observable features of the underlying document. The base class requires the implementation of an observation_space() static method, declaring the format of the document observable features as an OpenAI gym space, and a create_observation function, which returns a realization of said space. Also, each document must have a unique integer ID.\n",
    "\n",
    "In our case, documents are have only one feature, namely, their kaleness value, represented as a 1-dimensional spaces.Box (i.e., numpy array of size 1)."
   ]
  },
  {
   "cell_type": "code",
   "execution_count": 3,
   "metadata": {
    "colab": {},
    "colab_type": "code",
    "id": "WeBhRJrd7njP",
    "pycharm": {
     "name": "#%%\n"
    }
   },
   "outputs": [],
   "source": [
    "class LTSDocument(document.AbstractDocument):\n",
    "  def __init__(self, doc_id, kaleness):\n",
    "    self.kaleness = kaleness\n",
    "    # doc_id is an integer representing the unique ID of this document\n",
    "    super(LTSDocument, self).__init__(doc_id)\n",
    "\n",
    "  def create_observation(self):\n",
    "    return np.array([self.kaleness])\n",
    "\n",
    "  @staticmethod\n",
    "  def observation_space():\n",
    "    return spaces.Box(shape=(1,), dtype=np.float32, low=0.0, high=1.0)\n",
    "  \n",
    "  def __str__(self):\n",
    "    return \"Document {} with kaleness {}.\".format(self._doc_id, self.kaleness)"
   ]
  },
  {
   "cell_type": "markdown",
   "metadata": {
    "colab_type": "text",
    "id": "TIAOvd4wYF0s",
    "pycharm": {
     "name": "#%% md\n"
    }
   },
   "source": [
    "Having implemented a document template, we now need a document sampler. A document sampler is a generative distribution for documents, which will get invoked to regenerate the corpus either after every step or after every session  (depending on runner_lib settings). The object of interest is the sample_document() function required by the base class. It must return a document sampled from our desired distribution. In our case, it returns a document with a kaleness score sampled from a uniform distribution."
   ]
  },
  {
   "cell_type": "code",
   "execution_count": 8,
   "metadata": {
    "colab": {},
    "colab_type": "code",
    "id": "PCOf-66UWZwe",
    "pycharm": {
     "name": "#%%\n"
    }
   },
   "outputs": [],
   "source": [
    "class LTSDocumentSampler(document.AbstractDocumentSampler):\n",
    "  def __init__(self, doc_ctor=LTSDocument, **kwargs):\n",
    "    super(LTSDocumentSampler, self).__init__(doc_ctor, **kwargs)\n",
    "    self._doc_count = 0\n",
    "\n",
    "  def sample_document(self):\n",
    "    doc_features = {}\n",
    "    doc_features['doc_id'] = self._doc_count\n",
    "    doc_features['kaleness'] = self._rng.random_sample()\n",
    "    self._doc_count += 1\n",
    "    return self._doc_ctor(**doc_features)"
   ]
  },
  {
   "cell_type": "markdown",
   "metadata": {
    "colab_type": "text",
    "id": "i43PEB15y3LX",
    "pycharm": {
     "name": "#%% md\n"
    }
   },
   "source": [
    "With this we can now simulate documents."
   ]
  },
  {
   "cell_type": "code",
   "execution_count": 9,
   "metadata": {
    "colab": {
     "height": 133
    },
    "colab_type": "code",
    "executionInfo": {
     "elapsed": 17,
     "status": "ok",
     "timestamp": 1567203606615,
     "user": {
      "displayName": "Martin Mladenov",
      "photoUrl": "https://lh3.googleusercontent.com/a-/AAuE7mBGIUwOMhxCVcEq0Q5I9YhNVfoEjuuMOWzhNOPn=s64",
      "userId": "05569865531106976534"
     },
     "user_tz": 420
    },
    "id": "XGPL7IcHyksr",
    "outputId": "073ea4ec-d089-421e-8b6d-b84319a155e7",
    "pycharm": {
     "name": "#%%\n"
    }
   },
   "outputs": [
    {
     "name": "stdout",
     "output_type": "stream",
     "text": [
      "Document 0 with kaleness 0.5488135039273248.\n",
      "Document 1 with kaleness 0.7151893663724195.\n",
      "Document 2 with kaleness 0.6027633760716439.\n",
      "Document 3 with kaleness 0.5448831829968969.\n",
      "Document 4 with kaleness 0.4236547993389047.\n",
      "Documents have observation space: Box(0.0, 1.0, (1,), float32) \n",
      "An example realization is:  [0.64589411]\n"
     ]
    }
   ],
   "source": [
    "sampler = LTSDocumentSampler()\n",
    "for i in range(5): print(sampler.sample_document())\n",
    "d = sampler.sample_document()\n",
    "print(\"Documents have observation space:\", d.observation_space(), \"\\n\"\n",
    "      \"An example realization is: \", d.create_observation())"
   ]
  },
  {
   "cell_type": "markdown",
   "metadata": {
    "colab_type": "text",
    "id": "0TzJnr8F0gI4",
    "pycharm": {
     "name": "#%% md\n"
    }
   },
   "source": [
    "In RecSim, we never have to manually sample documents---the simulator does this, so a document sampler is a required argument of the simulation."
   ]
  },
  {
   "cell_type": "markdown",
   "metadata": {
    "colab_type": "text",
    "id": "duPkmxSk7qen",
    "pycharm": {
     "name": "#%% md\n"
    }
   },
   "source": [
    "\n",
    "# A User Model\n",
    "\n",
    "We now have a reasonable document model, so we turn towards the user model to complete the environment. A user model consists of the following components:\n",
    "* a user state,\n",
    "* a user sampler (a distribution over the starting state of users), \n",
    "* a user state transition model, and\n",
    "* a user response.\n",
    "\n",
    "Our user model for this tutorial is as follows:\n",
    "* each user has a feature called net kale exposure ($\\text{nke}_t$), and satisfaction ($\\text{sat}_t$). They are related via the logistic function to reflect the fact that satisfaction cannot be unbounded. Namely,\n",
    "$$\\text{sat}_t = \\sigma(\\tau\\cdot\\text{nke}_t),$$\n",
    "where $\\tau$ is a user-specific sensitivity parameter. Satisfaction and net kale exposure are bijectively related to each other, so only one is needed to keep track of state.\n",
    "* Given a slate $S$, the user chooses an item based on a multinomial logit choice model with the items' chocolateness as features: $p(\\text{user chooses }d_i \\text{ from slate }S) \\sim e^{1-\\mathrm{kaleness}(d_i)}$ (since chocolatey documents are more clicky).\n",
    "* Once the user chooses a document, the net kale exposure evolves as\n",
    "$$\\text{nke}_{t+1} = \\beta \\cdot \\text{nke}_t + 2(k_d - 1/2) + {\\cal N}(0, \\eta),$$\n",
    "where $\\beta$ is some user-specific memory discount (forgetting factor), $k_d$ is the kaleness of the chosen document and $\\eta$ is some noise standard deviation. \n",
    "* Finally, the user engages with the chosen content for $s_d$ seconds, where $s_d$ is drawn according to\n",
    "$$s_d\\sim\\log{\\cal N}(k_d\\mu_k + (1-k_d)\\mu_c, k_d\\sigma_k + (1-k_d)\\sigma_c),$$\n",
    "i.e. a log-normal distribution with parameters linearly interpolating between the pure kale response $(\\mu_k, \\sigma_k)$ and the pure choc response $(\\mu_c, \\sigma_c)$.\n",
    "\n",
    "Thus, a user state is defined by the tuple $(\\text{sat}, \\tau, \\beta, \\eta, \\mu_k, \\sigma_k, \\mu_c, \\sigma_c).$ The satisfaction variable is the only dynamic part of the state, whereas the other parameters define the user and are static. Technically, we are not required to keep these as part of the state as opposed to hardcoding them, however, it enables us to, say, sample users with different properties.\n",
    "\n"
   ]
  },
  {
   "cell_type": "markdown",
   "metadata": {
    "colab_type": "text",
    "id": "ZtFhtKrLSBiq",
    "pycharm": {
     "name": "#%% md\n"
    }
   },
   "source": [
    "## User state and user sampler \n",
    "Similarly to documents, we begin by implementing a user state class, i.e. a class that acts as a container for all these parameters. Similarly to AbstractDocument, AbstractUserState requires us to implement an observation_space() and create_observations(). These are used to feed partial (or complete) information about the user's state to the agent at every iteration. \n",
    "\n",
    "We also maintain a time budget, which will cap the session length. In this scenario, the session length will be fixed to some constant, so it's not worth being explicit with our time budget modeling, but one can definitely consider this as part of the state and do more interesting thigs with it. \n",
    "\n",
    "Finally we will implement a score_document method, that maps a document to a non-negative real number. This significance of this will become clear shortly. "
   ]
  },
  {
   "cell_type": "code",
   "execution_count": 10,
   "metadata": {
    "colab": {},
    "colab_type": "code",
    "id": "q5hCeVFuq8qB",
    "pycharm": {
     "name": "#%%\n"
    }
   },
   "outputs": [],
   "source": [
    "class LTSUserState(user.AbstractUserState):\n",
    "  def __init__(self, memory_discount, sensitivity, innovation_stddev,\n",
    "               choc_mean, choc_stddev, kale_mean, kale_stddev,\n",
    "               net_kaleness_exposure, time_budget, observation_noise_stddev=0.1\n",
    "              ):\n",
    "    ## Transition model parameters\n",
    "    ##############################\n",
    "    self.memory_discount = memory_discount\n",
    "    self.sensitivity = sensitivity\n",
    "    self.innovation_stddev = innovation_stddev\n",
    "\n",
    "    ## Engagement parameters\n",
    "    self.choc_mean = choc_mean\n",
    "    self.choc_stddev = choc_stddev\n",
    "    self.kale_mean = kale_mean\n",
    "    self.kale_stddev = kale_stddev\n",
    "\n",
    "    ## State variables\n",
    "    ##############################\n",
    "    self.net_kaleness_exposure = net_kaleness_exposure\n",
    "    self.satisfaction = 1 / (1 + np.exp(-sensitivity * net_kaleness_exposure))\n",
    "    self.time_budget = time_budget\n",
    "\n",
    "    # Noise\n",
    "    self._observation_noise = observation_noise_stddev\n",
    "\n",
    "  def create_observation(self):\n",
    "    \"\"\"User's state is not observable.\"\"\"\n",
    "    clip_low, clip_high = (-1.0 / (1.0 * self._observation_noise),\n",
    "                           1.0 / (1.0 * self._observation_noise))\n",
    "    noise = stats.truncnorm(\n",
    "        clip_low, clip_high, loc=0.0, scale=self._observation_noise).rvs()\n",
    "    noisy_sat = self.satisfaction + noise\n",
    "    return np.array([noisy_sat,])\n",
    "\n",
    "  @staticmethod\n",
    "  def observation_space():\n",
    "    return spaces.Box(shape=(1,), dtype=np.float32, low=-2.0, high=2.0)\n",
    "  \n",
    "  # scoring function for use in the choice model -- the user is more likely to\n",
    "  # click on more chocolatey content.\n",
    "  def score_document(self, doc_obs):\n",
    "    return 1 - doc_obs"
   ]
  },
  {
   "cell_type": "markdown",
   "metadata": {
    "colab_type": "text",
    "id": "fyUiJiKEq81y",
    "pycharm": {
     "name": "#%% md\n"
    }
   },
   "source": [
    "Also similarly to our document model, we have need a starting state sampler, that sets the starting user state for every session. For this tutoral, we will just sample the starting $\\text{nke}_0$ and keep all the static parameters the same, meaning that we essentially deal with the same user at different levels of satisfaction. One can, of course, extend this easily to generate also users with different parameters by randomizing the values. \n",
    "\n",
    "Observe that if $\\eta = 0$, $\\text{nke}$ would be bounded in the interval $\\left[-\\frac{1}{1-\\beta}, \\ldots, \\frac{1}{1-\\beta} \\right]$ at all times, so as starting distribution we just sample uniformly from that range. Sampling code has to be implemented in sample_user(), as required by the base class."
   ]
  },
  {
   "cell_type": "code",
   "execution_count": 11,
   "metadata": {
    "colab": {},
    "colab_type": "code",
    "id": "76xcc-7WZeAT",
    "pycharm": {
     "name": "#%%\n"
    }
   },
   "outputs": [],
   "source": [
    "class LTSStaticUserSampler(user.AbstractUserSampler):\n",
    "  _state_parameters = None\n",
    "\n",
    "  def __init__(self,\n",
    "               user_ctor=LTSUserState,\n",
    "               memory_discount=0.9,\n",
    "               sensitivity=0.01,\n",
    "               innovation_stddev=0.05,\n",
    "               choc_mean=5.0,\n",
    "               choc_stddev=1.0,\n",
    "               kale_mean=4.0,\n",
    "               kale_stddev=1.0,\n",
    "               time_budget=60,\n",
    "               **kwargs):\n",
    "    self._state_parameters = {'memory_discount': memory_discount,\n",
    "                              'sensitivity': sensitivity,\n",
    "                              'innovation_stddev': innovation_stddev,\n",
    "                              'choc_mean': choc_mean,\n",
    "                              'choc_stddev': choc_stddev,\n",
    "                              'kale_mean': kale_mean,\n",
    "                              'kale_stddev': kale_stddev,\n",
    "                              'time_budget': time_budget\n",
    "                             }\n",
    "    super(LTSStaticUserSampler, self).__init__(user_ctor, **kwargs)\n",
    "\n",
    "  def sample_user(self):\n",
    "    starting_nke = ((self._rng.random_sample() - .5) *\n",
    "                    (1 / (1.0 - self._state_parameters['memory_discount'])))\n",
    "    self._state_parameters['net_kaleness_exposure'] = starting_nke\n",
    "    return self._user_ctor(**self._state_parameters)\n"
   ]
  },
  {
   "cell_type": "markdown",
   "metadata": {
    "colab_type": "text",
    "id": "xrXhPNf_cgEY",
    "pycharm": {
     "name": "#%% md\n"
    }
   },
   "source": [
    "Let's try this out!"
   ]
  },
  {
   "cell_type": "code",
   "execution_count": 12,
   "metadata": {
    "colab": {
     "height": 268
    },
    "colab_type": "code",
    "executionInfo": {
     "elapsed": 139,
     "status": "ok",
     "timestamp": 1567203606899,
     "user": {
      "displayName": "Martin Mladenov",
      "photoUrl": "https://lh3.googleusercontent.com/a-/AAuE7mBGIUwOMhxCVcEq0Q5I9YhNVfoEjuuMOWzhNOPn=s64",
      "userId": "05569865531106976534"
     },
     "user_tz": 420
    },
    "id": "YMMmFOcLchuX",
    "outputId": "a9438e01-4350-4f02-e2aa-e59114eadd00",
    "pycharm": {
     "name": "#%%\n"
    }
   },
   "outputs": [
    {
     "data": {
      "text/plain": "<Figure size 432x288 with 1 Axes>",
      "image/png": "[encoded data removed]"
     },
     "metadata": {
      "needs_background": "light"
     },
     "output_type": "display_data"
    }
   ],
   "source": [
    "sampler = LTSStaticUserSampler()\n",
    "starting_nke = []\n",
    "for i in range(1000):\n",
    "  sampled_user = sampler.sample_user()\n",
    "  starting_nke.append(sampled_user.net_kaleness_exposure)\n",
    "_ = plt.hist(starting_nke)"
   ]
  },
  {
   "cell_type": "markdown",
   "metadata": {
    "colab_type": "text",
    "id": "-ANKrwWKKRB1",
    "pycharm": {
     "name": "#%% md\n"
    }
   },
   "source": [
    "## Response model\n",
    "\n",
    "The next thing we want to check off our list is the user response class. RecSim will generate one response for every recommended item in the slate. The contents of the response are what the agent will see as document-specific feedback from the recommendation (the non-document specific feedback being generated in LTSUserState.create_observation).  "
   ]
  },
  {
   "cell_type": "code",
   "execution_count": 13,
   "metadata": {
    "colab": {},
    "colab_type": "code",
    "id": "wTESuYu1J8-w",
    "pycharm": {
     "name": "#%%\n"
    }
   },
   "outputs": [],
   "source": [
    "class LTSResponse(user.AbstractResponse):\n",
    "  # The maximum degree of engagement.\n",
    "  MAX_ENGAGEMENT_MAGNITUDE = 100.0\n",
    "\n",
    "  def __init__(self, clicked=False, engagement=0.0):\n",
    "    self.clicked = clicked\n",
    "    self.engagement = engagement\n",
    "\n",
    "  def create_observation(self):\n",
    "    return {'click': int(self.clicked), 'engagement': np.array(self.engagement)}\n",
    "\n",
    "  @classmethod\n",
    "  def response_space(cls):\n",
    "    # `engagement` feature range is [0, MAX_ENGAGEMENT_MAGNITUDE]\n",
    "    return spaces.Dict({\n",
    "        'click':\n",
    "            spaces.Discrete(2),\n",
    "        'engagement':\n",
    "            spaces.Box(\n",
    "                low=0.0,\n",
    "                high=cls.MAX_ENGAGEMENT_MAGNITUDE,\n",
    "                shape=tuple(),\n",
    "                dtype=np.float32)\n",
    "    })"
   ]
  },
  {
   "cell_type": "markdown",
   "metadata": {
    "colab_type": "text",
    "id": "fzKB9nX8si77",
    "pycharm": {
     "name": "#%% md\n"
    }
   },
   "source": [
    "##User model\n",
    "\n",
    "Now that we have a way to generate users for our sessions, need to specify the actual user behavior. A RecSim user model (deriving from recsim.user.AbstractUserModel) is responsible for \n",
    "* maintaining user state, \n",
    "* evolving user state as a result of recommendations,\n",
    "* generating a response to a slate of recommendations.\n",
    "\n",
    "To this end, our user model is required by the base class to implement update_state() and simulate_response(), as well as is_terminal, which indicates when the end of the session occurs. This is facilitated by decreasing *self.time_budget* on every step.To make presentation clearer, we will define each function separately, and then assemble them into a class.\n",
    "\n"
   ]
  },
  {
   "cell_type": "markdown",
   "metadata": {
    "colab_type": "text",
    "id": "YgovTg4s2Vbf",
    "pycharm": {
     "name": "#%% md\n"
    }
   },
   "source": [
    "Our init is simple---we just pass the response_model constructor, user sampler and slate size down to the AbstractUserModel base class. Exploring other environments, the reader might notice that user model __init__ functions do offer a lot of flexibility for configuring the simulation. For now, however, we stick to the basics and hardcode things."
   ]
  },
  {
   "cell_type": "code",
   "execution_count": 14,
   "metadata": {
    "colab": {},
    "colab_type": "code",
    "id": "HajPntS8GELb",
    "pycharm": {
     "name": "#%%\n"
    }
   },
   "outputs": [],
   "source": [
    "def user_init(self,\n",
    "              slate_size,\n",
    "              seed=0):\n",
    "\n",
    "  super(LTSUserModel,\n",
    "        self).__init__(LTSResponse,\n",
    "                       LTSStaticUserSampler(LTSUserState,\n",
    "                                            seed=seed), slate_size)\n",
    "  self.choice_model = MultinomialLogitChoiceModel({})"
   ]
  },
  {
   "cell_type": "markdown",
   "metadata": {
    "colab_type": "text",
    "id": "g01X7pcf4VT2",
    "pycharm": {
     "name": "#%% md\n"
    }
   },
   "source": [
    "The simulate_response() method takes in a slate (list) of recommended (i.e., produced by the agent) LTSDocuments and must output a slate of user responses. The *k*-th response in the slate of responses corresponds to the *k*-th document in the recommendation slate. In this case, we pick one document to click on based on our choice model, and produce an engagement value. We will let the responses to the unclicked documents be vacuous, however, one might use them in more subtle ways (e.g., recording whether the user inspected that document, etc.).  "
   ]
  },
  {
   "cell_type": "code",
   "execution_count": 15,
   "metadata": {
    "colab": {},
    "colab_type": "code",
    "id": "7j9jMGv0KvEu",
    "pycharm": {
     "name": "#%%\n"
    }
   },
   "outputs": [],
   "source": [
    "def simulate_response(self, slate_documents):\n",
    "  # List of empty responses\n",
    "  responses = [self._response_model_ctor() for _ in slate_documents]\n",
    "  # Get click from of choice model.\n",
    "  self.choice_model.score_documents(\n",
    "    self._user_state, [doc.create_observation() for doc in slate_documents])\n",
    "  scores = self.choice_model.scores\n",
    "  selected_index = self.choice_model.choose_item()\n",
    "  # Populate clicked item.\n",
    "  self._generate_response(slate_documents[selected_index],\n",
    "                          responses[selected_index])\n",
    "  return responses\n",
    "\n",
    "def generate_response(self, doc, response):\n",
    "  response.clicked = True\n",
    "  # linear interpolation between choc and kale.\n",
    "  engagement_loc = (doc.kaleness * self._user_state.choc_mean\n",
    "                    + (1 - doc.kaleness) * self._user_state.kale_mean)\n",
    "  engagement_loc *= self._user_state.satisfaction\n",
    "  engagement_scale = (doc.kaleness * self._user_state.choc_stddev\n",
    "                      + ((1 - doc.kaleness)\n",
    "                          * self._user_state.kale_stddev))\n",
    "  log_engagement = np.random.normal(loc=engagement_loc,\n",
    "                                    scale=engagement_scale)\n",
    "  response.engagement = np.exp(log_engagement)"
   ]
  },
  {
   "cell_type": "markdown",
   "metadata": {
    "colab_type": "text",
    "id": "2KW0TwaN35ua",
    "pycharm": {
     "name": "#%% md\n"
    }
   },
   "source": [
    "The update_state() method implements our state transition kernel. It consumes the recommended slate, as well as the actual choices (responses) to induce a state transition. The state is modified in-place, so the function does not return anything."
   ]
  },
  {
   "cell_type": "code",
   "execution_count": 16,
   "metadata": {
    "colab": {},
    "colab_type": "code",
    "id": "_EQRVNW9KuT9",
    "pycharm": {
     "name": "#%%\n"
    }
   },
   "outputs": [],
   "source": [
    "def update_state(self, slate_documents, responses):\n",
    "  for doc, response in zip(slate_documents, responses):\n",
    "    if response.clicked:\n",
    "      innovation = np.random.normal(scale=self._user_state.innovation_stddev)\n",
    "      net_kaleness_exposure = (self._user_state.memory_discount\n",
    "                                * self._user_state.net_kaleness_exposure\n",
    "                                - 2.0 * (doc.kaleness - 0.5)\n",
    "                                + innovation\n",
    "                              )\n",
    "      self._user_state.net_kaleness_exposure = net_kaleness_exposure\n",
    "      satisfaction = 1 / (1.0 + np.exp(-self._user_state.sensitivity\n",
    "                                        * net_kaleness_exposure)\n",
    "                          )\n",
    "      self._user_state.satisfaction = satisfaction\n",
    "      self._user_state.time_budget -= 1\n",
    "      return"
   ]
  },
  {
   "cell_type": "markdown",
   "metadata": {
    "colab_type": "text",
    "id": "ueKeYdpH5VGd",
    "pycharm": {
     "name": "#%% md\n"
    }
   },
   "source": [
    "Finally, the session expires when the time budget goes to 0."
   ]
  },
  {
   "cell_type": "code",
   "execution_count": 17,
   "metadata": {
    "colab": {},
    "colab_type": "code",
    "id": "PYztrGCdKrAF",
    "pycharm": {
     "name": "#%%\n"
    }
   },
   "outputs": [],
   "source": [
    "def is_terminal(self):\n",
    "  \"\"\"Returns a boolean indicating if the session is over.\"\"\"\n",
    "  return self._user_state.time_budget <= 0\n"
   ]
  },
  {
   "cell_type": "markdown",
   "metadata": {
    "colab_type": "text",
    "id": "3IlApIga5brV",
    "pycharm": {
     "name": "#%% md\n"
    }
   },
   "source": [
    "We have all the components to instantiate a user model, so let's wrap them up in a class."
   ]
  },
  {
   "cell_type": "code",
   "execution_count": 18,
   "metadata": {
    "colab": {},
    "colab_type": "code",
    "id": "9g-Xso_5Ivx-",
    "pycharm": {
     "name": "#%%\n"
    }
   },
   "outputs": [],
   "source": [
    "LTSUserModel = type(\"LTSUserModel\", (user.AbstractUserModel,),\n",
    "                    {\"__init__\": user_init,\n",
    "                     \"is_terminal\": is_terminal,\n",
    "                     \"update_state\": update_state,\n",
    "                     \"simulate_response\": simulate_response,\n",
    "                     \"_generate_response\": generate_response})"
   ]
  },
  {
   "cell_type": "markdown",
   "metadata": {
    "colab_type": "text",
    "id": "iPNPWRhqJ0Q4",
    "pycharm": {
     "name": "#%% md\n"
    }
   },
   "source": [
    "Finally, we assemble all components into an Environment."
   ]
  },
  {
   "cell_type": "code",
   "execution_count": 19,
   "metadata": {
    "colab": {},
    "colab_type": "code",
    "id": "qgynvev0Jzgd",
    "pycharm": {
     "name": "#%%\n"
    }
   },
   "outputs": [],
   "source": [
    " slate_size = 3\n",
    " num_candidates = 10\n",
    " ltsenv = environment.Environment(\n",
    "            LTSUserModel(slate_size),\n",
    "            LTSDocumentSampler(),\n",
    "            num_candidates,\n",
    "            slate_size,\n",
    "            resample_documents=True)\n"
   ]
  },
  {
   "cell_type": "markdown",
   "metadata": {
    "colab_type": "text",
    "id": "moeAyn_8Iug0",
    "pycharm": {
     "name": "#%% md\n"
    }
   },
   "source": [
    "## Recap\n",
    "Before we conclude, let's take a second to recap everything we've done so far. The diagram below maps all the classes we've implemented/imported from RecSim to the functional diagram of RecSim.\n",
    "![RecSim implementation](https://github.com/google-research/recsim/blob/master/recsim/colab/figures/simulator_implemented.png?raw=true)\n",
    "\n"
   ]
  },
  {
   "cell_type": "markdown",
   "metadata": {
    "colab_type": "text",
    "id": "BlofIEOkJJ2P",
    "pycharm": {
     "name": "#%% md\n"
    }
   },
   "source": [
    "## Interacting with an agent\n",
    "\n",
    "We now have a fully implemented environment in hand. In order to train/evaluate agents in this environment, we first need to specify a reward function. In RecSim, a reward function maps a set of responses to a real number. Suppose we want to maximize the engagement of the clicked documents.  "
   ]
  },
  {
   "cell_type": "code",
   "execution_count": 20,
   "metadata": {
    "colab": {},
    "colab_type": "code",
    "id": "L5GhbiI2JJWO",
    "pycharm": {
     "name": "#%%\n"
    }
   },
   "outputs": [],
   "source": [
    "def clicked_engagement_reward(responses):\n",
    "  reward = 0.0\n",
    "  for response in responses:\n",
    "    if response.clicked:\n",
    "      reward += response.engagement\n",
    "  return reward"
   ]
  },
  {
   "cell_type": "markdown",
   "metadata": {
    "colab_type": "text",
    "id": "h1FEWpgASVyy",
    "pycharm": {
     "name": "#%% md\n"
    }
   },
   "source": [
    "Now, we simply use the OpenAI gym wrapper, which essentially provides a familiar step-based API."
   ]
  },
  {
   "cell_type": "code",
   "execution_count": 21,
   "metadata": {
    "colab": {},
    "colab_type": "code",
    "id": "ysMbbgh_JqsO",
    "pycharm": {
     "name": "#%%\n"
    }
   },
   "outputs": [],
   "source": [
    "lts_gym_env = recsim_gym.RecSimGymEnv(ltsenv, clicked_engagement_reward)"
   ]
  },
  {
   "cell_type": "code",
   "execution_count": 22,
   "outputs": [
    {
     "name": "stdout",
     "output_type": "stream",
     "text": [
      "Observation 0\n",
      "Available documents\n",
      "doc_id 10 kaleness [0.79172504]\n",
      "doc_id 11 kaleness [0.52889492]\n",
      "doc_id 12 kaleness [0.56804456]\n",
      "doc_id 13 kaleness [0.92559664]\n",
      "doc_id 14 kaleness [0.07103606]\n",
      "doc_id 15 kaleness [0.0871293]\n",
      "doc_id 16 kaleness [0.0202184]\n",
      "doc_id 17 kaleness [0.83261985]\n",
      "doc_id 18 kaleness [0.77815675]\n",
      "doc_id 19 kaleness [0.87001215]\n",
      "Noisy user state observation\n",
      "[0.60902169]\n",
      "Observation 1\n",
      "Available documents\n",
      "doc_id 20 kaleness [0.97861834]\n",
      "doc_id 21 kaleness [0.79915856]\n",
      "doc_id 22 kaleness [0.46147936]\n",
      "doc_id 23 kaleness [0.78052918]\n",
      "doc_id 24 kaleness [0.11827443]\n",
      "doc_id 25 kaleness [0.63992102]\n",
      "doc_id 26 kaleness [0.14335329]\n",
      "doc_id 27 kaleness [0.94466892]\n",
      "doc_id 28 kaleness [0.52184832]\n",
      "doc_id 29 kaleness [0.41466194]\n",
      "User responses to documents in the slate\n",
      "{'click': 0, 'engagement': array(0.)}\n",
      "{'click': 1, 'engagement': array(2.08815436)}\n",
      "{'click': 0, 'engagement': array(0.)}\n",
      "Noisy user state observation\n",
      "[0.48691581]\n"
     ]
    }
   ],
   "source": [
    "observation_0 = lts_gym_env.reset()\n",
    "print('Observation 0')\n",
    "print('Available documents')\n",
    "doc_strings = ['doc_id ' + key + \" kaleness \" + str(value) for key, value\n",
    "               in observation_0['doc'].items()]\n",
    "print('\\n'.join(doc_strings))\n",
    "print('Noisy user state observation')\n",
    "print(observation_0['user'])\n",
    "# Agent recommends the first three documents.\n",
    "recommendation_slate_0 = [0, 1, 2]\n",
    "observation_1, reward, done, _ = lts_gym_env.step(recommendation_slate_0)\n",
    "print('Observation 1')\n",
    "print('Available documents')\n",
    "doc_strings = ['doc_id ' + key + \" kaleness \" + str(value) for key, value\n",
    "               in observation_1['doc'].items()]\n",
    "print('\\n'.join(doc_strings))\n",
    "rsp_strings = [str(response) for response in observation_1['response']]\n",
    "print('User responses to documents in the slate')\n",
    "print('\\n'.join(rsp_strings))\n",
    "print('Noisy user state observation')\n",
    "print(observation_1['user'])"
   ],
   "metadata": {
    "collapsed": false,
    "pycharm": {
     "name": "#%%\n"
    }
   }
  },
  {
   "cell_type": "code",
   "execution_count": null,
   "outputs": [],
   "source": [],
   "metadata": {
    "collapsed": false,
    "pycharm": {
     "name": "#%%\n"
    }
   }
  }
 ],
 "metadata": {
  "colab": {
   "collapsed_sections": [],
   "last_runtime": {
    "build_target": "//research/colab/notebook:notebook_backend_py3",
    "kind": "private"
   },
   "name": "RecSim: Developing an Environment.ipynb",
   "provenance": [
    {
     "file_id": "16dwynuiTyTzK-Tv7y6j5ynq4vAADJ-x7",
     "timestamp": 1567802857573
    }
   ]
  },
  "kernelspec": {
   "name": "python3",
   "language": "python",
   "display_name": "Python 3 (ipykernel)"
  }
 },
 "nbformat": 4,
 "nbformat_minor": 0
}